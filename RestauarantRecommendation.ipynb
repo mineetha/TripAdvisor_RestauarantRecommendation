{
 "cells": [
  {
   "cell_type": "markdown",
   "metadata": {},
   "source": [
    "#### A restaurant recommendation system is an application that recommends similar restaurants to a customer according to the customer’s taste. To build a restaurant recommender system using Python, I have collected data from Kaggle. "
   ]
  },
  {
   "cell_type": "code",
   "execution_count": 32,
   "metadata": {},
   "outputs": [],
   "source": [
    "import numpy as np\n",
    "import pandas as pd\n",
    "from sklearn.feature_extraction import text\n",
    "from sklearn.metrics.pairwise import cosine_similarity\n",
    "from sklearn.metrics.pairwise import cosine_similarity\n",
    "from sklearn.preprocessing import StandardScaler, OneHotEncoder\n",
    "from sklearn.feature_extraction.text import TfidfVectorizer"
   ]
  },
  {
   "cell_type": "code",
   "execution_count": 43,
   "metadata": {},
   "outputs": [
    {
     "name": "stdout",
     "output_type": "stream",
     "text": [
      "                            Name       Street Address  \\\n",
      "0  Betty Lou's Seafood and Grill     318 Columbus Ave   \n",
      "1              Coach House Diner        55 State Rt 4   \n",
      "2               Table Talk Diner  2521 South Rd Ste C   \n",
      "3                    Sixty Vines     3701 Dallas Pkwy   \n",
      "4                   The Clam Bar    3914 Brewerton Rd   \n",
      "\n",
      "                       Location                                          Type  \\\n",
      "0  San Francisco, CA 94133-3908   Seafood, Vegetarian Friendly, Vegan Options   \n",
      "1     Hackensack, NJ 07601-6337          Diner, American, Vegetarian Friendly   \n",
      "2   Poughkeepsie, NY 12601-5476          American, Diner, Vegetarian Friendly   \n",
      "3          Plano, TX 75093-7777       American, Wine Bar, Vegetarian Friendly   \n",
      "4            Syracuse, NY 13212                        American, Bar, Seafood   \n",
      "\n",
      "            Reviews No of Reviews  \\\n",
      "0  4.5 of 5 bubbles   243 reviews   \n",
      "1    4 of 5 bubbles    84 reviews   \n",
      "2    4 of 5 bubbles   256 reviews   \n",
      "3  4.5 of 5 bubbles   235 reviews   \n",
      "4    4 of 5 bubbles   285 reviews   \n",
      "\n",
      "                                            Comments   Contact Number  \\\n",
      "0                                                NaN  +1 415-757-0569   \n",
      "1  Both times we were there very late, after 11 P...  +1 201-488-4999   \n",
      "2  Waitress was very friendly but a little pricey...  +1 845-849-2839   \n",
      "3  Not sure why I went there for the second time....  +1 469-620-8463   \n",
      "4  Doesn't look like much from the outside but wa...  +1 315-458-1662   \n",
      "\n",
      "                                    Trip_advisor Url  \\\n",
      "0  https://www.tripadvisor.com//Restaurant_Review...   \n",
      "1  https://www.tripadvisor.com//Restaurant_Review...   \n",
      "2  https://www.tripadvisor.com//Restaurant_Review...   \n",
      "3  https://www.tripadvisor.com//Restaurant_Review...   \n",
      "4  https://www.tripadvisor.com//Restaurant_Review...   \n",
      "\n",
      "                                        Menu Price_Range  \n",
      "0               Check The Website for a Menu    $$ - $$$  \n",
      "1               Check The Website for a Menu    $$ - $$$  \n",
      "2  http://tabletalkdiner.com/menu/breakfast/    $$ - $$$  \n",
      "3      https://sixtyvines.com/menu/plano-tx/    $$ - $$$  \n",
      "4               Check The Website for a Menu    $$ - $$$  \n"
     ]
    }
   ],
   "source": [
    "data = pd.read_csv(\"TripAdvisor_RestauarantRecommendation.csv\")\n",
    "print(data.head())"
   ]
  },
  {
   "cell_type": "code",
   "execution_count": 44,
   "metadata": {},
   "outputs": [
    {
     "name": "stdout",
     "output_type": "stream",
     "text": [
      "<class 'pandas.core.frame.DataFrame'>\n",
      "RangeIndex: 3062 entries, 0 to 3061\n",
      "Data columns (total 11 columns):\n",
      " #   Column            Non-Null Count  Dtype \n",
      "---  ------            --------------  ----- \n",
      " 0   Name              3062 non-null   object\n",
      " 1   Street Address    3062 non-null   object\n",
      " 2   Location          3062 non-null   object\n",
      " 3   Type              3049 non-null   object\n",
      " 4   Reviews           3062 non-null   object\n",
      " 5   No of Reviews     3062 non-null   object\n",
      " 6   Comments          2447 non-null   object\n",
      " 7   Contact Number    3062 non-null   object\n",
      " 8   Trip_advisor Url  3062 non-null   object\n",
      " 9   Menu              3062 non-null   object\n",
      " 10  Price_Range       3062 non-null   object\n",
      "dtypes: object(11)\n",
      "memory usage: 263.3+ KB\n"
     ]
    }
   ],
   "source": [
    "data.info()"
   ]
  },
  {
   "cell_type": "markdown",
   "metadata": {},
   "source": [
    "### I will select  only two columns from the dataset for the rest of the task (Name, Type):\n",
    "\n"
   ]
  },
  {
   "cell_type": "code",
   "execution_count": 45,
   "metadata": {},
   "outputs": [
    {
     "name": "stdout",
     "output_type": "stream",
     "text": [
      "                            Name                                          Type\n",
      "0  Betty Lou's Seafood and Grill   Seafood, Vegetarian Friendly, Vegan Options\n",
      "1              Coach House Diner          Diner, American, Vegetarian Friendly\n",
      "2               Table Talk Diner          American, Diner, Vegetarian Friendly\n",
      "3                    Sixty Vines       American, Wine Bar, Vegetarian Friendly\n",
      "4                   The Clam Bar                        American, Bar, Seafood\n"
     ]
    }
   ],
   "source": [
    "data = data[[\"Name\", \"Type\"]]\n",
    "print(data.head())"
   ]
  },
  {
   "cell_type": "code",
   "execution_count": 35,
   "metadata": {},
   "outputs": [
    {
     "name": "stdout",
     "output_type": "stream",
     "text": [
      "Name     0\n",
      "Type    13\n",
      "dtype: int64\n"
     ]
    }
   ],
   "source": [
    "print(data.isnull().sum())"
   ]
  },
  {
   "cell_type": "code",
   "execution_count": 36,
   "metadata": {},
   "outputs": [],
   "source": [
    "data = data.dropna()"
   ]
  },
  {
   "cell_type": "code",
   "execution_count": 37,
   "metadata": {},
   "outputs": [],
   "source": [
    "tfidf_vectorizer = TfidfVectorizer(stop_words='english')"
   ]
  },
  {
   "cell_type": "markdown",
   "metadata": {},
   "source": [
    "### The type of restaurant is a valuable feature in the data to build a recommendation system. The type column here represents the category of restaurants. For example, if a customer likes vegetarian-friendly restaurants, he will only look at the recommendations if they are vegetarian friendly too. So I will use the Type column as the feature to recommend similar restaurants to the customer:"
   ]
  },
  {
   "cell_type": "code",
   "execution_count": 38,
   "metadata": {},
   "outputs": [],
   "source": [
    "tfidf_matrix = tfidf_vectorizer.fit_transform(data['Type'])\n",
    "\n"
   ]
  },
  {
   "cell_type": "code",
   "execution_count": 39,
   "metadata": {},
   "outputs": [],
   "source": [
    "similarity = cosine_similarity(tfidf_matrix)"
   ]
  },
  {
   "cell_type": "markdown",
   "metadata": {},
   "source": [
    "#### The cosine_similarity function is a measure that calculates the cosine of the angle between two non-zero vectors in an inner product space. It's commonly used to measure how similar two sets of data are. The cosine similarity measure returns a value between -1 and 1, \n",
    "### where: 1 means the data sets are identical 0 means the data sets are orthogonal (or not similar) -1 means the data sets are diametrically opposite"
   ]
  },
  {
   "cell_type": "markdown",
   "metadata": {},
   "source": [
    "### Now I will set the name of the restaurant as an index so that we can find similar restaurants by giving the name of the restaurant as an input:\n"
   ]
  },
  {
   "cell_type": "code",
   "execution_count": 40,
   "metadata": {},
   "outputs": [],
   "source": [
    "indices = pd.Series(data.index, index=data['Name']).drop_duplicates()"
   ]
  },
  {
   "cell_type": "code",
   "execution_count": 41,
   "metadata": {},
   "outputs": [
    {
     "name": "stdout",
     "output_type": "stream",
     "text": [
      "23                   The Lion's Share\n",
      "154                        Houlihan's\n",
      "518            Midgley's Public House\n",
      "568                 Aspen Creek Grill\n",
      "770              Pete's Sunset Grille\n",
      "1190     Paul Martin's American Grill\n",
      "1581                   Aviation Grill\n",
      "1872                   Aviation Grill\n",
      "2193                Crest Bar & Grill\n",
      "2612    Tahoe Joe's Famous Steakhouse\n",
      "Name: Name, dtype: object\n"
     ]
    }
   ],
   "source": [
    "def restaurant_recommendation(name, similarity = similarity):\n",
    "    index = indices[name]\n",
    "    similarity_scores = list(enumerate(similarity[index]))\n",
    "    similarity_scores = sorted(similarity_scores, key=lambda x: x[1], reverse=True)\n",
    "    similarity_scores = similarity_scores[0:10]\n",
    "    restaurantindices = [i[0] for i in similarity_scores]\n",
    "    return data['Name'].iloc[restaurantindices]\n",
    "\n",
    "print(restaurant_recommendation(\"Market Grill\"))"
   ]
  },
  {
   "cell_type": "code",
   "execution_count": null,
   "metadata": {},
   "outputs": [],
   "source": []
  }
 ],
 "metadata": {
  "kernelspec": {
   "display_name": "myenv",
   "language": "python",
   "name": "myenv"
  },
  "language_info": {
   "codemirror_mode": {
    "name": "ipython",
    "version": 3
   },
   "file_extension": ".py",
   "mimetype": "text/x-python",
   "name": "python",
   "nbconvert_exporter": "python",
   "pygments_lexer": "ipython3",
   "version": "3.8.17"
  }
 },
 "nbformat": 4,
 "nbformat_minor": 4
}
